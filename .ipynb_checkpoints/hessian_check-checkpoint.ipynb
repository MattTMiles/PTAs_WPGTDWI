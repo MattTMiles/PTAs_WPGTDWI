{
 "cells": [
  {
   "cell_type": "code",
   "execution_count": 1,
   "id": "2282e5fd-b06e-414f-886d-9e9cb4dae141",
   "metadata": {},
   "outputs": [],
   "source": [
    "import os\n",
    "os.environ[\"XLA_PYTHON_CLIENT_PREALLOCATE\"] = \"false\"\n",
    "os.environ[\"XLA_PYTHON_CLIENT_ALLOCATOR\"] = \"platform\"\n",
    "\n",
    "import discovery as ds\n",
    "import json\n",
    "import numpy as np\n",
    "import jax.numpy as jnp\n",
    "import glob\n",
    "import matplotlib.pyplot as plt\n",
    "import jax\n",
    "jax.config.update('jax_enable_x64', True)\n",
    "import argparse\n",
    "from functools import partial\n",
    "import json\n",
    "import discovery.samplers.numpyro as ds_numpyro\n",
    "from pathlib import Path\n",
    "import pickle\n",
    "import corner\n",
    "import inspect\n",
    "import typing"
   ]
  },
  {
   "cell_type": "code",
   "execution_count": 2,
   "id": "41d266d9-b635-4033-bcc9-9221c5658beb",
   "metadata": {},
   "outputs": [],
   "source": [
    "feather_dir = \"./from_polina/\""
   ]
  },
  {
   "cell_type": "code",
   "execution_count": 83,
   "id": "d4d98bb9-b66d-4905-b859-1a4638432c98",
   "metadata": {},
   "outputs": [],
   "source": [
    "psrs = [ds.Pulsar.read_feather(psrfile) for psrfile in sorted(glob.glob(feather_dir+'*.feather'))][:10] #For now just grabbing 10 psrs"
   ]
  },
  {
   "cell_type": "markdown",
   "id": "91ec8066-f44c-4e64-81c2-ddca53341493",
   "metadata": {},
   "source": [
    "## Psr signal injection as follows:\n",
    "- gwtheta=1.0471975511965979\n",
    "- gwphi=3.141592653589793\n",
    "- dist=69.75\n",
    "- log10_mc=9\n",
    "- fgw=2e-08\n",
    "- inc=0\n",
    "- rzn=0\n",
    "- curn\n",
    "\n",
    "### Truth values of the pulsar distances are contained in psr.pdist\n",
    "\n",
    "The contention is that the hessian of the lnL should be greatly maximised where the psr distance search values are at the true values"
   ]
  },
  {
   "cell_type": "markdown",
   "id": "c6cb120b-c0b9-484b-a860-09b4d02be920",
   "metadata": {},
   "source": [
    "### Set up signal model below:"
   ]
  },
  {
   "cell_type": "code",
   "execution_count": 157,
   "id": "ae227af0-27eb-44e0-a039-2887cd34021f",
   "metadata": {},
   "outputs": [],
   "source": [
    "# Custom function to use the p_dist rather than p_phase\n",
    "\n",
    "\n",
    "def fpc_fast(pos, gwtheta, gwphi):\n",
    "    x, y, z = pos\n",
    "\n",
    "    sin_phi = jnp.sin(gwphi)\n",
    "    cos_phi = jnp.cos(gwphi)\n",
    "    sin_theta = jnp.sin(gwtheta)\n",
    "    cos_theta = jnp.cos(gwtheta)\n",
    "\n",
    "    m_dot_pos = sin_phi * x - cos_phi * y\n",
    "    n_dot_pos = -cos_theta * cos_phi * x - cos_theta * sin_phi * y + sin_theta * z\n",
    "    omhat_dot_pos = -sin_theta * cos_phi * x - sin_theta * sin_phi * y - cos_theta * z\n",
    "\n",
    "    denom = 1.0 + omhat_dot_pos\n",
    "\n",
    "    fplus = 0.5 * (m_dot_pos**2 - n_dot_pos**2) / denom\n",
    "    fcross = (m_dot_pos * n_dot_pos) / denom\n",
    "\n",
    "    return fplus, fcross\n",
    "    \n",
    "def cos2comp(f, df, A, f0, phi, t0):\n",
    "    \"\"\"Project signal A * cos(2pi f t + phi) onto Fourier basis\n",
    "    cos(2pi k t/T), sin(2pi k t/T) for t in [t0, t0+T].\"\"\"\n",
    "\n",
    "    T = 1.0 / df[0]\n",
    "\n",
    "    Delta_omega = 2.0 * jnp.pi * (f0 - f[::2])\n",
    "    Sigma_omega = 2.0 * jnp.pi * (f0 + f[::2])\n",
    "\n",
    "    phase_Delta_start = phi + Delta_omega * t0\n",
    "    phase_Delta_end   = phi + Delta_omega * (t0 + T)\n",
    "\n",
    "    phase_Sigma_start = phi + Sigma_omega * t0\n",
    "    phase_Sigma_end   = phi + Sigma_omega * (t0 + T)\n",
    "\n",
    "    ck = (A / T) * (\n",
    "        (jnp.sin(phase_Delta_end) - jnp.sin(phase_Delta_start)) / Delta_omega +\n",
    "        (jnp.sin(phase_Sigma_end) - jnp.sin(phase_Sigma_start)) / Sigma_omega\n",
    "    )\n",
    "\n",
    "    sk = (A / T) * (\n",
    "        (jnp.cos(phase_Delta_end) - jnp.cos(phase_Delta_start)) / Delta_omega -\n",
    "        (jnp.cos(phase_Sigma_end) - jnp.cos(phase_Sigma_start)) / Sigma_omega\n",
    "    )\n",
    "\n",
    "    return jnp.stack((sk, ck), axis=1).reshape(-1)\n",
    "\n",
    "\n",
    "\n",
    "def makefourier_binary_pdist(pulsarterm=True):\n",
    "    def fourier_binary_pdist(f, df, mintoa, pos, log10_h0, log10_f0, ra, sindec, cosinc, psi, phi_earth, p_dist):\n",
    "        h0 = 10**log10_h0\n",
    "        f0 = 10**log10_f0\n",
    "\n",
    "        pos = jnp.array(pos)\n",
    "        \n",
    "        dec, inc = jnp.arcsin(sindec), jnp.arccos(cosinc)\n",
    "\n",
    "        # calculate antenna pattern\n",
    "        fplus, fcross = fpc_fast(pos, 0.5 * jnp.pi - dec, ra)\n",
    "\n",
    "        c = 2.99792458e8 \n",
    "        omega_hat = jnp.array([ -jnp.cos(dec) * jnp.cos(ra), \n",
    "                                -jnp.cos(dec) * jnp.sin(ra),\n",
    "                                -jnp.sin(dec)\n",
    "                              ])\n",
    "\n",
    "        phi_psr = phi_earth - 2.0 * jnp.pi * f0 * p_dist / c * (1.0 + jnp.dot(omega_hat, pos))\n",
    "\n",
    "        if pulsarterm:\n",
    "            phi_avg = 0.5 * (phi_earth + phi_psr)\n",
    "        else:\n",
    "            phi_avg = phi_earth\n",
    "\n",
    "        tref = 86400.0 * 51544.5  # MJD J2000 in seconds\n",
    "\n",
    "        cphase = cos2comp(f, df, 1.0, f0, phi_avg - 2.0 * jnp.pi * f0 * tref, mintoa)\n",
    "        sphase = cos2comp(f, df, 1.0, f0, phi_avg - 2.0 * jnp.pi * f0 * tref - 0.5 * jnp.pi, mintoa)\n",
    "\n",
    "        if pulsarterm:\n",
    "            phi_diff = 0.5 * (phi_earth - phi_psr)\n",
    "            sin_diff = jnp.sin(phi_diff)\n",
    "\n",
    "            delta_sin =  2.0 * cphase * sin_diff\n",
    "            delta_cos = -2.0 * sphase * sin_diff\n",
    "        else:\n",
    "            delta_sin = sphase\n",
    "            delta_cos = cphase\n",
    "\n",
    "        At = -1.0 * (1.0 + jnp.cos(inc)**2) * delta_sin\n",
    "        Bt =  2.0 * jnp.cos(inc) * delta_cos\n",
    "\n",
    "        alpha = h0 / (2 * jnp.pi * f0)\n",
    "\n",
    "        rplus  = alpha * (-At * jnp.cos(2 * psi) + Bt * jnp.sin(2 * psi))\n",
    "        rcross = alpha * ( At * jnp.sin(2 * psi) + Bt * jnp.cos(2 * psi))\n",
    "\n",
    "        res = -fplus * rplus - fcross * rcross\n",
    "\n",
    "        return res\n",
    "\n",
    "    if not pulsarterm:\n",
    "        fourier_binary_pdist = functools.partial(fourier_binary, p_dist=jnp.nan)\n",
    "\n",
    "    return fourier_binary_pdist"
   ]
  },
  {
   "cell_type": "code",
   "execution_count": null,
   "id": "5082cff2-9c57-472e-adb1-e8d5f248d126",
   "metadata": {},
   "outputs": [],
   "source": []
  },
  {
   "cell_type": "code",
   "execution_count": 158,
   "id": "22dea74a-9b8d-42ba-8ea3-7c2ec46a0885",
   "metadata": {},
   "outputs": [],
   "source": [
    "# Injected with effectively no WN\n",
    "\n",
    "noisedict = {}\n",
    "for psr in psrs:\n",
    "    noisedict[psr.name+\"_KAT_MKBF_efac\"] = 1 # EFAC=1 means no EFAC\n",
    "    noisedict[psr.name+\"_KAT_MKBF_log10_ecorr\"] = -19 # Bringing these down to effectively 0\n",
    "    noisedict[psr.name+\"_KAT_MKBF_log10_t2equad\"] = -19"
   ]
  },
  {
   "cell_type": "code",
   "execution_count": 159,
   "id": "31ed3838-0d1a-4c8b-b910-676b591bc506",
   "metadata": {},
   "outputs": [],
   "source": [
    "\n",
    "# Fourier based CW delay\n",
    "fourdelay = makefourier_binary_pdist(pulsarterm=True)\n",
    "cwcommon = ['cw_sindec', 'cw_cosinc', 'cw_log10_f0', 'cw_log10_h0', 'cw_phi_earth', 'cw_psi', 'cw_ra']\n",
    "\n",
    "T = ds.getspan(psrs)\n",
    "fml = ds.ArrayLikelihood([ds.PulsarLikelihood([psr.residuals,\n",
    "                                               ds.makenoise_measurement(psr, noisedict=noisedict),\n",
    "                                               ds.makegp_timing(psr, svd=True),\n",
    "                                              ]) for psr in psrs],\n",
    "                         commongp = ds.makecommongp_fourier(psrs, ds.makepowerlaw_crn(14), 30, T, means=fourdelay,\n",
    "                                                            common=['crn_gamma', 'crn_log10_A'] + cwcommon, name='rednoise', meansname='cw'))"
   ]
  },
  {
   "cell_type": "code",
   "execution_count": 262,
   "id": "9ebfdde4-d446-4205-bd3a-0add10751345",
   "metadata": {},
   "outputs": [],
   "source": [
    "logl = fml.logL"
   ]
  },
  {
   "cell_type": "code",
   "execution_count": 220,
   "id": "587d4b01-b7e2-4bb5-b2af-cff2fef434f5",
   "metadata": {},
   "outputs": [
    {
     "data": {
      "text/plain": [
       "<function discovery.matrix.VectorWoodburyKernel_varP.make_kernelproduct.<locals>.kernelproduct(params)>"
      ]
     },
     "execution_count": 220,
     "metadata": {},
     "output_type": "execute_result"
    }
   ],
   "source": [
    "logl"
   ]
  },
  {
   "cell_type": "code",
   "execution_count": 162,
   "id": "329a7837-abe8-4f78-94e0-4fbc0ede139f",
   "metadata": {},
   "outputs": [
    {
     "data": {
      "text/plain": [
       "[1.45, 0.29]"
      ]
     },
     "execution_count": 162,
     "metadata": {},
     "output_type": "execute_result"
    }
   ],
   "source": [
    "psr.pdist"
   ]
  },
  {
   "cell_type": "code",
   "execution_count": 163,
   "id": "c2c82785-9da5-4943-88f1-51d36173b3ad",
   "metadata": {
    "scrolled": true
   },
   "outputs": [
    {
     "data": {
      "text/plain": [
       "['B1855+09_cw_p_dist',\n",
       " 'B1855+09_rednoise_gamma',\n",
       " 'B1855+09_rednoise_log10_A',\n",
       " 'B1937+21_cw_p_dist',\n",
       " 'B1937+21_rednoise_gamma',\n",
       " 'B1937+21_rednoise_log10_A',\n",
       " 'B1953+29_cw_p_dist',\n",
       " 'B1953+29_rednoise_gamma',\n",
       " 'B1953+29_rednoise_log10_A',\n",
       " 'J0023+0923_cw_p_dist',\n",
       " 'J0023+0923_rednoise_gamma',\n",
       " 'J0023+0923_rednoise_log10_A',\n",
       " 'J0030+0451_cw_p_dist',\n",
       " 'J0030+0451_rednoise_gamma',\n",
       " 'J0030+0451_rednoise_log10_A',\n",
       " 'J0125-2327_cw_p_dist',\n",
       " 'J0125-2327_rednoise_gamma',\n",
       " 'J0125-2327_rednoise_log10_A',\n",
       " 'J0340+4130_cw_p_dist',\n",
       " 'J0340+4130_rednoise_gamma',\n",
       " 'J0340+4130_rednoise_log10_A',\n",
       " 'J0406+3039_cw_p_dist',\n",
       " 'J0406+3039_rednoise_gamma',\n",
       " 'J0406+3039_rednoise_log10_A',\n",
       " 'J0437-4715_cw_p_dist',\n",
       " 'J0437-4715_rednoise_gamma',\n",
       " 'J0437-4715_rednoise_log10_A',\n",
       " 'J0509+0856_cw_p_dist',\n",
       " 'J0509+0856_rednoise_gamma',\n",
       " 'J0509+0856_rednoise_log10_A',\n",
       " 'crn_gamma',\n",
       " 'crn_log10_A',\n",
       " 'cw_cosinc',\n",
       " 'cw_log10_f0',\n",
       " 'cw_log10_h0',\n",
       " 'cw_phi_earth',\n",
       " 'cw_psi',\n",
       " 'cw_ra',\n",
       " 'cw_sindec']"
      ]
     },
     "execution_count": 163,
     "metadata": {},
     "output_type": "execute_result"
    }
   ],
   "source": [
    "## Params the likelihood expects\n",
    "logl.params"
   ]
  },
  {
   "cell_type": "code",
   "execution_count": null,
   "id": "1a940a81-9c8b-434c-b132-1f8b9b0563f5",
   "metadata": {},
   "outputs": [],
   "source": []
  },
  {
   "cell_type": "code",
   "execution_count": 164,
   "id": "132346d2-de34-4439-9dc6-7ada79e6aafd",
   "metadata": {},
   "outputs": [],
   "source": [
    "truths = {}\n",
    "for psr in psrs:\n",
    "    truths[psr.name+\"_cw_p_dist\"] = psr.pdist[0]"
   ]
  },
  {
   "cell_type": "code",
   "execution_count": 165,
   "id": "154a34ca-b11f-4df9-b5a7-8c53bb27a0ca",
   "metadata": {},
   "outputs": [
    {
     "data": {
      "text/plain": [
       "{'B1855+09_cw_p_dist': 1.18,\n",
       " 'B1937+21_cw_p_dist': 3.1,\n",
       " 'B1953+29_cw_p_dist': 4.64,\n",
       " 'J0023+0923_cw_p_dist': 1.02,\n",
       " 'J0030+0451_cw_p_dist': 0.3296,\n",
       " 'J0125-2327_cw_p_dist': 0.873,\n",
       " 'J0340+4130_cw_p_dist': 1.71,\n",
       " 'J0406+3039_cw_p_dist': 1.72,\n",
       " 'J0437-4715_cw_p_dist': 0.1549,\n",
       " 'J0509+0856_cw_p_dist': 1.45}"
      ]
     },
     "execution_count": 165,
     "metadata": {},
     "output_type": "execute_result"
    }
   ],
   "source": [
    "# Ignores uncertainty but the CW would be injected given the pdist value\n",
    "truths"
   ]
  },
  {
   "cell_type": "code",
   "execution_count": 166,
   "id": "b2107034-bf04-4da0-992b-7e57718ff2a4",
   "metadata": {},
   "outputs": [],
   "source": [
    "for param in logl.params:\n",
    "    if \"rednoise_log10_A\" in param:\n",
    "        truths[param] = -20\n",
    "    if \"crn_log10_A\" in param:\n",
    "        truths[param] = -14.619788758288394\n",
    "    if \"rednoise_gamma\" in param:\n",
    "        truths[param] = 3\n",
    "    if \"crn_gamma\" in param:\n",
    "        truths[param] = 13/3\n",
    "    if \"cw_cosinc\" in param:\n",
    "        truths[param] = 1\n",
    "    if \"cw_log10_f0\" in param:\n",
    "        truths[param] = -7.698970004336019\n",
    "\n"
   ]
  },
  {
   "cell_type": "code",
   "execution_count": 167,
   "id": "a3bcf205-55f8-48ce-a403-8ec4455cdc9b",
   "metadata": {},
   "outputs": [],
   "source": [
    "touse = truths.copy()"
   ]
  },
  {
   "cell_type": "markdown",
   "id": "e7ce7e67-bab4-4ef2-a860-364019ebbc18",
   "metadata": {},
   "source": [
    "\n",
    "\n",
    "gwtheta=1.0471975511965979\n",
    "gwphi=3.141592653589793\n",
    "dist=69.75\n",
    "log10_mc=9\n",
    "fgw=2e-08\n",
    "inc=0\n",
    "rzn=0\n",
    "curn\n"
   ]
  },
  {
   "cell_type": "code",
   "execution_count": 168,
   "id": "68aad204-eac6-4f7d-8b98-60506820d1f8",
   "metadata": {},
   "outputs": [
    {
     "data": {
      "text/plain": [
       "{'(.*_)?efac': [0.9, 1.1],\n",
       " '(.*_)?t2equad': [-8.5, -5],\n",
       " '(.*_)?tnequad': [-8.5, -5],\n",
       " '(.*_)?log10_ecorr': [-8.5, -5],\n",
       " '(.*_)?rednoise_log10_A.*': [-20, -11],\n",
       " '(.*_)?rednoise_gamma.*': [0, 7],\n",
       " '(.*_)?rednoise_log10_fb': [-9, -6],\n",
       " '(.*_)?red_noise_log10_A.*': [-20, -11],\n",
       " '(.*_)?red_noise_gamma.*': [0, 7],\n",
       " '(.*_)?red_noise_log10_fb': [-9, -6],\n",
       " 'crn_log10_A.*': [-18, -11],\n",
       " 'crn_gamma.*': [0, 7],\n",
       " 'crn_log10_fb': [-9, -6],\n",
       " 'gw_(.*_)?log10_A': [-18, -11],\n",
       " 'gw_(.*_)?gamma': [0, 7],\n",
       " 'gw_log10_fb': [-9, -6],\n",
       " '(.*_)?dmgp_log10_A': [-20, -11],\n",
       " '(.*_)?dmgp_gamma': [0, 7],\n",
       " '(.*_)?dmgp_alpha': [1, 3],\n",
       " '(.*_)?chromgp_log10_A': [-20, -11],\n",
       " '(.*_)?chromgp_gamma': [0, 7],\n",
       " '(.*_)?chromgp_alpha': [1, 7],\n",
       " '(.*_)?dm_gp_log10_A': [-20, -11],\n",
       " '(.*_)?dm_gp_gamma': [0, 7],\n",
       " '(.*_)?dm_gp_alpha': [1, 3],\n",
       " '(.*_)?chrom_gp_log10_A': [-20, -11],\n",
       " '(.*_)?chrom_gp_gamma': [0, 7],\n",
       " '(.*_)?chrom_gp_alpha': [1, 3],\n",
       " 'crn_log10_rho': [-9, -4],\n",
       " 'gw_(.*_)?log10_rho': [-9, -4],\n",
       " '(.*_)?red_noise_log10_rho\\\\(([0-9]*)\\\\)': [-9, -4],\n",
       " '(.*_)?red_noise_crn_log10_rho\\\\(([0-9]*)\\\\)': [-9, -4],\n",
       " 'cw_ra': [0, 6.283185307179586],\n",
       " 'cw_dec': [-1.5707963267948966, 1.5707963267948966],\n",
       " 'cw_inc': [0, 3.141592653589793],\n",
       " 'cw_sindec': [-1.0, 1.0],\n",
       " 'cw_cosinc': [-1.0, 1.0],\n",
       " 'cw_psi': [0, 3.141592653589793],\n",
       " 'cw_log10_f0': [-9.0, -7.0],\n",
       " 'cw_log10_h0': [-18.0, -11.0],\n",
       " 'cw_phi_earth': [0.0, 6.283185307179586],\n",
       " '(.*_)?cw_phi_psr': [0.0, 6.283185307179586],\n",
       " '(.*_)?chrom1yr_log10_A': [-20, -5],\n",
       " '(.*_)?chrom1yr_phase': [0, 6.283185307179586],\n",
       " '(.*_)?chrom1yr_idx': [0, 14],\n",
       " '(.*_)?chrom_bump_log10_A': [-10, -1],\n",
       " '(.*_)?chrom_bump_idx': [0, 14],\n",
       " '(.*_)?chrom_bump_sign_param': [-1, 1],\n",
       " '(.*_)?sw_gp_log10_A': [-20, -11],\n",
       " '(.*_)?sw_gp_gamma': [0, 7]}"
      ]
     },
     "execution_count": 168,
     "metadata": {},
     "output_type": "execute_result"
    }
   ],
   "source": [
    "ds.priordict_standard"
   ]
  },
  {
   "cell_type": "code",
   "execution_count": 278,
   "id": "caedb2ed-fae4-46a0-b856-9f12a92bf6b6",
   "metadata": {},
   "outputs": [],
   "source": [
    "# I think it's better not to have all the parameters correct, so these are incorrect. \n",
    "# I want to make sure that Hessian changes because of the pdists and not anything else\n",
    "\n",
    "touse.update({'cw_log10_h0': np.random.uniform(-18,-11), 'cw_phi_earth': np.pi, 'cw_psi': np.pi/2, 'cw_ra': np.pi/2, 'cw_sindec': 0, 'cw_cosinc': 0}) "
   ]
  },
  {
   "cell_type": "code",
   "execution_count": 279,
   "id": "f8b80c1c-127f-483d-9124-871f67a25662",
   "metadata": {},
   "outputs": [],
   "source": [
    "order_map = {key: i for i, key in enumerate(logl.params)}"
   ]
  },
  {
   "cell_type": "code",
   "execution_count": 280,
   "id": "a8bdd8f9-6b24-4472-afed-ed087d94f6d6",
   "metadata": {},
   "outputs": [],
   "source": [
    "sorted_items = sorted(touse.items(), key=lambda item: order_map.get(item[0], float('inf')))"
   ]
  },
  {
   "cell_type": "code",
   "execution_count": 281,
   "id": "82d87ae7-41f7-4a05-98c6-9d701c244dd3",
   "metadata": {},
   "outputs": [],
   "source": [
    "sorted_dict = dict(sorted_items)"
   ]
  },
  {
   "cell_type": "code",
   "execution_count": 282,
   "id": "ccae10d1-b006-4e0b-bea4-a87237838200",
   "metadata": {},
   "outputs": [
    {
     "data": {
      "text/plain": [
       "{'B1855+09_cw_p_dist': 1.18,\n",
       " 'B1855+09_rednoise_gamma': 3,\n",
       " 'B1855+09_rednoise_log10_A': -20,\n",
       " 'B1937+21_cw_p_dist': 3.1,\n",
       " 'B1937+21_rednoise_gamma': 3,\n",
       " 'B1937+21_rednoise_log10_A': -20,\n",
       " 'B1953+29_cw_p_dist': 4.64,\n",
       " 'B1953+29_rednoise_gamma': 3,\n",
       " 'B1953+29_rednoise_log10_A': -20,\n",
       " 'J0023+0923_cw_p_dist': 1.02,\n",
       " 'J0023+0923_rednoise_gamma': 3,\n",
       " 'J0023+0923_rednoise_log10_A': -20,\n",
       " 'J0030+0451_cw_p_dist': 0.3296,\n",
       " 'J0030+0451_rednoise_gamma': 3,\n",
       " 'J0030+0451_rednoise_log10_A': -20,\n",
       " 'J0125-2327_cw_p_dist': 0.873,\n",
       " 'J0125-2327_rednoise_gamma': 3,\n",
       " 'J0125-2327_rednoise_log10_A': -20,\n",
       " 'J0340+4130_cw_p_dist': 1.71,\n",
       " 'J0340+4130_rednoise_gamma': 3,\n",
       " 'J0340+4130_rednoise_log10_A': -20,\n",
       " 'J0406+3039_cw_p_dist': 1.72,\n",
       " 'J0406+3039_rednoise_gamma': 3,\n",
       " 'J0406+3039_rednoise_log10_A': -20,\n",
       " 'J0437-4715_cw_p_dist': 0.1549,\n",
       " 'J0437-4715_rednoise_gamma': 3,\n",
       " 'J0437-4715_rednoise_log10_A': -20,\n",
       " 'J0509+0856_cw_p_dist': 1.45,\n",
       " 'J0509+0856_rednoise_gamma': 3,\n",
       " 'J0509+0856_rednoise_log10_A': -20,\n",
       " 'crn_gamma': 4.333333333333333,\n",
       " 'crn_log10_A': -14.619788758288394,\n",
       " 'cw_cosinc': 0,\n",
       " 'cw_log10_f0': -7.698970004336019,\n",
       " 'cw_log10_h0': -16.754489168663948,\n",
       " 'cw_phi_earth': 3.141592653589793,\n",
       " 'cw_psi': 1.5707963267948966,\n",
       " 'cw_ra': 1.5707963267948966,\n",
       " 'cw_sindec': 0}"
      ]
     },
     "execution_count": 282,
     "metadata": {},
     "output_type": "execute_result"
    }
   ],
   "source": [
    "sorted_dict"
   ]
  },
  {
   "cell_type": "code",
   "execution_count": 283,
   "id": "1b8748d6-45c4-4212-979b-a0e52b12921c",
   "metadata": {},
   "outputs": [
    {
     "data": {
      "text/plain": [
       "dict_values([1.18, 3, -20, 3.1, 3, -20, 4.64, 3, -20, 1.02, 3, -20, 0.3296, 3, -20, 0.873, 3, -20, 1.71, 3, -20, 1.72, 3, -20, 0.1549, 3, -20, 1.45, 3, -20, 4.333333333333333, -14.619788758288394, 0, -7.698970004336019, -16.754489168663948, 3.141592653589793, 1.5707963267948966, 1.5707963267948966, 0])"
      ]
     },
     "execution_count": 283,
     "metadata": {},
     "output_type": "execute_result"
    }
   ],
   "source": [
    "sorted_dict.values()"
   ]
  },
  {
   "cell_type": "code",
   "execution_count": 284,
   "id": "450a34b8-5000-4cac-b0bd-9fb74853d706",
   "metadata": {},
   "outputs": [],
   "source": [
    "# Get the keys in the same order as values\n",
    "param_keys = list(sorted_dict.keys())\n",
    "\n",
    "# Define the wrapper\n",
    "def logl_wrapped(x_array):\n",
    "    # Convert array -> dict\n",
    "    params = {k: v for k, v in zip(param_keys, x_array)}\n",
    "    return logl(params)"
   ]
  },
  {
   "cell_type": "code",
   "execution_count": 285,
   "id": "724f79e4-6c6e-40ef-bad8-99ca5761181c",
   "metadata": {},
   "outputs": [],
   "source": [
    "#x0 = np.array(list(sorted_dict.values()), dtype=np.float64)\n",
    "x0 = jnp.array(list(sorted_dict.values()), dtype=jnp.float64)\n",
    "grad_fn = jax.jit(jax.grad(logl_wrapped))\n",
    "hess_fn = jax.jit(jax.hessian(logl_wrapped))"
   ]
  },
  {
   "cell_type": "code",
   "execution_count": 286,
   "id": "d7f8d031-48e0-43cd-893b-9b005f0926a9",
   "metadata": {},
   "outputs": [
    {
     "name": "stdout",
     "output_type": "stream",
     "text": [
      "logl(x0) = 33490.17741467983\n"
     ]
    }
   ],
   "source": [
    "print(\"logl(x0) =\", logl_wrapped(x0))"
   ]
  },
  {
   "cell_type": "code",
   "execution_count": 287,
   "id": "9037259a-c0ae-4e85-8bfe-8db239a47444",
   "metadata": {},
   "outputs": [],
   "source": [
    "G = grad_fn(x0)"
   ]
  },
  {
   "cell_type": "code",
   "execution_count": 292,
   "id": "1e0587d1-40a4-4b67-bfc8-5caab685041b",
   "metadata": {},
   "outputs": [
    {
     "data": {
      "text/plain": [
       "Array([ 3.09410931e-20, -1.14745171e-12, -4.08098997e-12,  4.48142884e-19,\n",
       "        1.37630359e-09,  6.51560921e-09,  9.27131882e-21,  3.91286036e-10,\n",
       "        1.36636387e-09,  3.52386755e-18,  3.09707167e-11,  2.95969666e-10,\n",
       "        1.93079380e-18,  3.76848153e-13, -1.26766725e-11,  4.10447078e-19,\n",
       "       -1.81050993e-12, -7.57020620e-12,  1.71978744e-19, -1.77868402e-13,\n",
       "        1.15671611e-12,  1.09085054e-19,  1.05452060e-12,  1.52160700e-11,\n",
       "       -3.89507306e-18,  9.36271529e-12,  6.19457573e-11,  3.75850032e-21,\n",
       "       -7.91457264e-13, -3.36172795e-12,  7.64959095e+02,  2.38412649e+03,\n",
       "        1.56061219e-17,  3.10904923e-16,  1.52770685e-17,  1.73472348e-18,\n",
       "       -5.22041306e-17, -6.18724367e-17, -6.19361461e-17], dtype=float64)"
      ]
     },
     "execution_count": 292,
     "metadata": {},
     "output_type": "execute_result"
    }
   ],
   "source": [
    "G"
   ]
  },
  {
   "cell_type": "code",
   "execution_count": 288,
   "id": "435b1d69-dd2b-43ac-9d94-b92c6864e6e6",
   "metadata": {},
   "outputs": [],
   "source": [
    "H = hess_fn(x0)"
   ]
  },
  {
   "cell_type": "code",
   "execution_count": 293,
   "id": "6eb986c5-fa64-4007-a7ea-b86c49566845",
   "metadata": {},
   "outputs": [
    {
     "data": {
      "text/plain": [
       "(39, 39)"
      ]
     },
     "execution_count": 293,
     "metadata": {},
     "output_type": "execute_result"
    }
   ],
   "source": [
    "H.shape"
   ]
  },
  {
   "cell_type": "code",
   "execution_count": 290,
   "id": "79298ac6-2370-4a1a-8afe-5844c0f1a1dd",
   "metadata": {},
   "outputs": [
    {
     "data": {
      "text/plain": [
       "Array([[-8.40036550e-37, -4.04215397e-33, -2.89344666e-32, ...,\n",
       "        -1.79292460e-19, -5.11793510e-19, -3.64776212e-19],\n",
       "       [-4.04215397e-33, -1.38243262e-12, -5.28358029e-12, ...,\n",
       "         2.53560210e-32,  7.23318566e-32,  5.16213834e-32],\n",
       "       [-2.89344666e-32, -5.28351769e-12, -1.87594415e-11, ...,\n",
       "         1.81502968e-31,  5.17764465e-31,  3.69515165e-31],\n",
       "       ...,\n",
       "       [-1.79292460e-19,  2.53560210e-32,  1.81502968e-31, ...,\n",
       "        -2.65389862e-17,  1.21683851e-16, -1.22698645e-16],\n",
       "       [-5.11793510e-19,  7.23318566e-32,  5.17764465e-31, ...,\n",
       "         1.21683851e-16,  9.42961725e-17, -2.32086263e-17],\n",
       "       [-3.64776212e-19,  5.16213834e-32,  3.69515165e-31, ...,\n",
       "        -1.22698645e-16, -2.32086263e-17, -1.07711991e-16]],      dtype=float64)"
      ]
     },
     "execution_count": 290,
     "metadata": {},
     "output_type": "execute_result"
    }
   ],
   "source": [
    "H"
   ]
  },
  {
   "cell_type": "code",
   "execution_count": 242,
   "id": "ae99307b-9c14-4526-936d-ce6a45a64d67",
   "metadata": {},
   "outputs": [
    {
     "name": "stdout",
     "output_type": "stream",
     "text": [
      "33490.17741467983\n"
     ]
    }
   ],
   "source": [
    "val = logl_wrapped(x0)\n",
    "print(val)"
   ]
  },
  {
   "cell_type": "code",
   "execution_count": 243,
   "id": "2ebbe78f-59d1-4fce-9a42-e28800c19cd2",
   "metadata": {},
   "outputs": [
    {
     "name": "stdout",
     "output_type": "stream",
     "text": [
      "params: [  1.18         3.         -20.           3.1          3.\n",
      " -20.           4.64         3.         -20.           1.02\n",
      "   3.         -20.           0.3296       3.         -20.\n",
      "   0.873        3.         -20.           1.71         3.\n",
      " -20.           1.72         3.         -20.           0.1549\n",
      "   3.         -20.           1.45         3.         -20.\n",
      "   4.33333333 -14.61978876   1.          -7.69897    -16.2529779\n",
      "   3.14159265   1.57079633   1.57079633   0.        ]\n"
     ]
    }
   ],
   "source": [
    "jax.debug.print(\"params: {}\", x0)"
   ]
  },
  {
   "cell_type": "code",
   "execution_count": 147,
   "id": "c864226a-4913-4169-b0b1-60987fbed6ef",
   "metadata": {},
   "outputs": [
    {
     "data": {
      "text/plain": [
       "{'B1855+09_cw_p_dist': 1.18,\n",
       " 'B1937+21_cw_p_dist': 3.1,\n",
       " 'B1953+29_cw_p_dist': 4.64,\n",
       " 'J0023+0923_cw_p_dist': 1.02,\n",
       " 'J0030+0451_cw_p_dist': 0.3296,\n",
       " 'J0125-2327_cw_p_dist': 0.873,\n",
       " 'J0340+4130_cw_p_dist': 1.71,\n",
       " 'J0406+3039_cw_p_dist': 1.72,\n",
       " 'J0437-4715_cw_p_dist': 0.1549,\n",
       " 'J0509+0856_cw_p_dist': 1.45,\n",
       " 'B1855+09_rednoise_gamma': 3,\n",
       " 'B1855+09_rednoise_log10_A': -20,\n",
       " 'B1937+21_rednoise_gamma': 3,\n",
       " 'B1937+21_rednoise_log10_A': -20,\n",
       " 'B1953+29_rednoise_gamma': 3,\n",
       " 'B1953+29_rednoise_log10_A': -20,\n",
       " 'J0023+0923_rednoise_gamma': 3,\n",
       " 'J0023+0923_rednoise_log10_A': -20,\n",
       " 'J0030+0451_rednoise_gamma': 3,\n",
       " 'J0030+0451_rednoise_log10_A': -20,\n",
       " 'J0125-2327_rednoise_gamma': 3,\n",
       " 'J0125-2327_rednoise_log10_A': -20,\n",
       " 'J0340+4130_rednoise_gamma': 3,\n",
       " 'J0340+4130_rednoise_log10_A': -20,\n",
       " 'J0406+3039_rednoise_gamma': 3,\n",
       " 'J0406+3039_rednoise_log10_A': -20,\n",
       " 'J0437-4715_rednoise_gamma': 3,\n",
       " 'J0437-4715_rednoise_log10_A': -20,\n",
       " 'J0509+0856_rednoise_gamma': 3,\n",
       " 'J0509+0856_rednoise_log10_A': -20,\n",
       " 'crn_gamma': 4.333333333333333,\n",
       " 'crn_log10_A': -14.619788758288394,\n",
       " 'cw_cosinc': 1,\n",
       " 'cw_log10_f0': -7.698970004336019,\n",
       " 'cw_log10_h0': -14.178297795756347,\n",
       " 'cw_phi_earth': 3.141592653589793,\n",
       " 'cw_psi': 1.5707963267948966,\n",
       " 'cw_ra': 1.5707963267948966,\n",
       " 'cw_sindec': 0}"
      ]
     },
     "execution_count": 147,
     "metadata": {},
     "output_type": "execute_result"
    }
   ],
   "source": [
    "touse"
   ]
  },
  {
   "cell_type": "code",
   "execution_count": 148,
   "id": "ad0bf365-0372-4708-84e2-5a758d11d45c",
   "metadata": {},
   "outputs": [],
   "source": [
    "sindec = 0\n",
    "dec = jnp.arcsin(sindec)\n",
    "ra = 1.5707963267948966\n",
    "omega_hat = jnp.array([ -jnp.cos(dec) * jnp.cos(ra), \n",
    "                        -jnp.cos(dec) * jnp.sin(ra),\n",
    "                        -jnp.sin(dec)\n",
    "                      ])"
   ]
  },
  {
   "cell_type": "code",
   "execution_count": 156,
   "id": "0ace7e3a-366b-4aa3-8b8c-ddb2d1901413",
   "metadata": {},
   "outputs": [
    {
     "data": {
      "text/plain": [
       "list"
      ]
     },
     "execution_count": 156,
     "metadata": {},
     "output_type": "execute_result"
    }
   ],
   "source": [
    "type(psrs[0].pos)"
   ]
  },
  {
   "cell_type": "code",
   "execution_count": 245,
   "id": "e31c7074-f3c4-4a4a-8d36-b8079bb00a5c",
   "metadata": {},
   "outputs": [
    {
     "name": "stdout",
     "output_type": "stream",
     "text": [
      "logl: -0.04500000000000001\n",
      "grad: [-0.3 -0.3]\n",
      "hess: [[-1. -1.]\n",
      " [-1. -1.]]\n"
     ]
    }
   ],
   "source": [
    "## Minimal test\n",
    "\n",
    "\n",
    "def logl(params):\n",
    "    # deliberately simple example\n",
    "    return -0.5 * jnp.sum(params**2)\n",
    "\n",
    "def logl_wrapped(x):\n",
    "    keys = [\"a\", \"b\"]\n",
    "    params = {k: v for k, v in zip(keys, x)}\n",
    "    return logl(params[\"a\"] + params[\"b\"])  # or whatever you have\n",
    "\n",
    "x0 = jnp.array([0.1, 0.2], dtype=jnp.float64)\n",
    "\n",
    "print(\"logl:\", logl_wrapped(x0))\n",
    "print(\"grad:\", jax.grad(logl_wrapped)(x0))\n",
    "print(\"hess:\", jax.hessian(logl_wrapped)(x0))"
   ]
  },
  {
   "cell_type": "code",
   "execution_count": null,
   "id": "d9bfc31c-0378-4574-8fcc-eb982e9b0d26",
   "metadata": {},
   "outputs": [],
   "source": []
  }
 ],
 "metadata": {
  "kernelspec": {
   "display_name": "Python [conda env:discotech] *",
   "language": "python",
   "name": "conda-env-discotech-py"
  },
  "language_info": {
   "codemirror_mode": {
    "name": "ipython",
    "version": 3
   },
   "file_extension": ".py",
   "mimetype": "text/x-python",
   "name": "python",
   "nbconvert_exporter": "python",
   "pygments_lexer": "ipython3",
   "version": "3.12.11"
  }
 },
 "nbformat": 4,
 "nbformat_minor": 5
}
