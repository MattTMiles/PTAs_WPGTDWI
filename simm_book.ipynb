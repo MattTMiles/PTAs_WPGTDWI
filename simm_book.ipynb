{
 "cells": [
  {
   "cell_type": "code",
   "execution_count": 1,
   "id": "278d6f13-6341-48a8-aaaa-fcfa96fd2524",
   "metadata": {},
   "outputs": [],
   "source": [
    "import numpy as np"
   ]
  },
  {
   "cell_type": "code",
   "execution_count": 3,
   "id": "3cb1cff1-e669-4a48-90db-2e0f3b540d8e",
   "metadata": {},
   "outputs": [
    {
     "data": {
      "text/plain": [
       "array([45, 48, 79, 25,  3, 45,  6, 66, 40, 12, 54, 27, 26, 30, 15, 58, 12,\n",
       "        0,  8, 73])"
      ]
     },
     "execution_count": 3,
     "metadata": {},
     "output_type": "execute_result"
    }
   ],
   "source": [
    "np.random.randint(0, 82, size=20)"
   ]
  },
  {
   "cell_type": "code",
   "execution_count": null,
   "id": "aea42a2c-8c9e-46b1-a0d6-a4a167688e09",
   "metadata": {},
   "outputs": [],
   "source": []
  }
 ],
 "metadata": {
  "kernelspec": {
   "display_name": "Python [conda env:discotech] *",
   "language": "python",
   "name": "conda-env-discotech-py"
  },
  "language_info": {
   "codemirror_mode": {
    "name": "ipython",
    "version": 3
   },
   "file_extension": ".py",
   "mimetype": "text/x-python",
   "name": "python",
   "nbconvert_exporter": "python",
   "pygments_lexer": "ipython3",
   "version": "3.12.11"
  }
 },
 "nbformat": 4,
 "nbformat_minor": 5
}
